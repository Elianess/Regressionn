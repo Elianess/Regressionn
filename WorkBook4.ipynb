{
 "cells": [
  {
   "cell_type": "markdown",
   "id": "2f156f81",
   "metadata": {},
   "source": [
    "# Линейные регрессионные модели"
   ]
  },
  {
   "cell_type": "markdown",
   "id": "2a892256",
   "metadata": {},
   "source": [
    "# эктраполяционный полиномом первого порядка"
   ]
  },
  {
   "cell_type": "code",
   "execution_count": 119,
   "id": "444e778f",
   "metadata": {},
   "outputs": [
    {
     "data": {
      "image/png": "[encoded data removed]",
      "text/plain": [
       "<Figure size 432x288 with 1 Axes>"
      ]
     },
     "metadata": {
      "needs_background": "light"
     },
     "output_type": "display_data"
    }
   ],
   "source": [
    "#y = mx + b \n",
    "import numpy as np\n",
    "import matplotlib.pyplot as plt\n",
    "\n",
    "#Допустим у нас есть некоторый набор из 10 точек с координатами, которые будут имитировать зашумленные данные\n",
    "x = np.array([0, 1, 2, 3, 4, 5, 6, 7, 8, 9]) \n",
    "y = np.array([-12, - 15,  -18,  -19, -21, -26, -25, -30, -34, -38])\n",
    "\n",
    "plt.scatter(x, y)\n",
    "plt.show()"
   ]
  },
  {
   "cell_type": "code",
   "execution_count": 120,
   "id": "73e02408",
   "metadata": {},
   "outputs": [
    {
     "name": "stdout",
     "output_type": "stream",
     "text": [
      "[[0. 1.]\n",
      " [1. 1.]\n",
      " [2. 1.]\n",
      " [3. 1.]\n",
      " [4. 1.]\n",
      " [5. 1.]\n",
      " [6. 1.]\n",
      " [7. 1.]\n",
      " [8. 1.]\n",
      " [9. 1.]]\n",
      "\n",
      "-2.7272727272727266 -11.527272727272717\n"
     ]
    }
   ],
   "source": [
    "#попробуем подобрать линию которая проходит через данные точки с минимальным расстоянием до каждой из них.\n",
    "#Для этого нам нужно составить систему уравнений y = Ap\n",
    "#A - это массив вида [[x[0], 1], \n",
    "#                    [x[1], 1], \n",
    "#                       ..., \n",
    "#                    [x[n], 1]],\n",
    "#p = [[m], [c]]\n",
    "\n",
    "#Создадим матрицу A:\n",
    "A = np.vstack([x, np.ones(len(x))]).T\n",
    "print(A)\n",
    "\n",
    "print()\n",
    "\n",
    "#Теперь найдем значения p (поиск наименьших квадратов для линейного матричного уравнения)\n",
    "m, c = np.linalg.lstsq(A, y, rcond=None)[0]\n",
    "print(m, c)"
   ]
  },
  {
   "cell_type": "code",
   "execution_count": 121,
   "id": "f7ee0486",
   "metadata": {},
   "outputs": [
    {
     "data": {
      "image/png": "[encoded data removed]",
      "text/plain": [
       "<Figure size 432x288 with 1 Axes>"
      ]
     },
     "metadata": {
      "needs_background": "light"
     },
     "output_type": "display_data"
    }
   ],
   "source": [
    "#изобразим данные вместе с полученной линией\n",
    "plt.scatter(x, y)\n",
    "plt.plot(x, m*x + c, 'r')\n",
    "plt.show()"
   ]
  },
  {
   "cell_type": "markdown",
   "id": "cbcbe87e",
   "metadata": {},
   "source": [
    "# эстраполяционный полином второго порядка"
   ]
  },
  {
   "cell_type": "code",
   "execution_count": 122,
   "id": "b5e692ae",
   "metadata": {},
   "outputs": [
    {
     "name": "stdout",
     "output_type": "stream",
     "text": [
      "[-4.72105487 -4.31876654 -3.04475001 -2.12504146 -0.57715337 -0.12395372\n",
      "  1.21241104  2.09910344  3.03871835  4.03109515  4.51135729] \n",
      "\n",
      " [25.43438179 16.32902494  9.29461153  4.36815026  1.11254058  0.27787594\n",
      "  0.87062933  3.92975804  8.79095814 16.2769179  25.28580467]\n"
     ]
    }
   ],
   "source": [
    "# y = ax^2 + bx + c\n",
    "from numpy import *\n",
    "from numpy.random import *\n",
    "\n",
    "#генерируем случайные x и y\n",
    "delta = 1.0\n",
    "x = linspace(-5,5,11)\n",
    "#print(x, '\\n')\n",
    "\n",
    "y = x**2+delta*(rand(11)-0.5)\n",
    "#print(y, '\\n')\n",
    "\n",
    "x += delta*(rand(11)-0.5)\n",
    "#print(x, '\\n\\n\\n')\n",
    "\n",
    "print(x, '\\n\\n', y)"
   ]
  },
  {
   "cell_type": "code",
   "execution_count": 123,
   "id": "a40eeec9",
   "metadata": {},
   "outputs": [
    {
     "data": {
      "image/png": "[encoded data removed]",
      "text/plain": [
       "<Figure size 432x288 with 1 Axes>"
      ]
     },
     "metadata": {
      "needs_background": "light"
     },
     "output_type": "display_data"
    }
   ],
   "source": [
    "plt.scatter(x, y)\n",
    "plt.show()"
   ]
  },
  {
   "cell_type": "code",
   "execution_count": 124,
   "id": "6d76a019",
   "metadata": {},
   "outputs": [
    {
     "name": "stdout",
     "output_type": "stream",
     "text": [
      "[[ 2.22883591e+01 -4.72105487e+00  1.00000000e+00]\n",
      " [ 1.86517444e+01 -4.31876654e+00  1.00000000e+00]\n",
      " [ 9.27050262e+00 -3.04475001e+00  1.00000000e+00]\n",
      " [ 4.51580122e+00 -2.12504146e+00  1.00000000e+00]\n",
      " [ 3.33106014e-01 -5.77153372e-01  1.00000000e+00]\n",
      " [ 1.53645240e-02 -1.23953717e-01  1.00000000e+00]\n",
      " [ 1.46994054e+00  1.21241104e+00  1.00000000e+00]\n",
      " [ 4.40623525e+00  2.09910344e+00  1.00000000e+00]\n",
      " [ 9.23380920e+00  3.03871835e+00  1.00000000e+00]\n",
      " [ 1.62497281e+01  4.03109515e+00  1.00000000e+00]\n",
      " [ 2.03523446e+01  4.51135729e+00  1.00000000e+00]]\n",
      "\n",
      "[ 1.10641242  0.16045182 -0.56153135]\n"
     ]
    }
   ],
   "source": [
    "#нахождение коэффициентов функции вида y = ax^2 + bx + c методом наимньших квадратов\n",
    "\n",
    "#задаем матрицу p = [x**2, x] (для иксов)\n",
    "p = vstack([x**2, x, ones(x.shape)]).T\n",
    "print(p)\n",
    "\n",
    "print()\n",
    "\n",
    "#найдем значения коэфициентов (поиск наименьших квадратов для линейного матричного уравнения)\n",
    "s = np.linalg.lstsq(p, y, rcond=None)[0]\n",
    "print(s)"
   ]
  },
  {
   "cell_type": "code",
   "execution_count": 125,
   "id": "8849e81f",
   "metadata": {},
   "outputs": [
    {
     "data": {
      "image/png": "[encoded data removed]",
      "text/plain": [
       "<Figure size 432x288 with 1 Axes>"
      ]
     },
     "metadata": {
      "needs_background": "light"
     },
     "output_type": "display_data"
    }
   ],
   "source": [
    "plt.scatter(x, y)\n",
    "plt.plot(x, s[0]*x**2 + s[1]*x + s[2], 'r')\n",
    "plt.show()"
   ]
  },
  {
   "cell_type": "markdown",
   "id": "88d3f636",
   "metadata": {},
   "source": [
    "# эстраполяционный полином второго порядка"
   ]
  },
  {
   "cell_type": "code",
   "execution_count": 126,
   "id": "2a84a21c",
   "metadata": {},
   "outputs": [
    {
     "name": "stdout",
     "output_type": "stream",
     "text": [
      "[-4.62719762 -3.79532368 -3.0905127  -1.7601643  -0.51829078  0.37911722\n",
      "  0.87486349  1.77844818  2.89204967  4.05227221  4.76915293] \n",
      "\n",
      " [25.33005245 15.5907566   8.99916517  4.06188416  0.66059425 -0.0529239\n",
      "  0.92087152  3.98253477  8.60111197 16.16693703 24.66640805]\n"
     ]
    }
   ],
   "source": [
    "#генерируем случайные x и y\n",
    "delta = 1.0\n",
    "x = linspace(-5,5,11)\n",
    "#print(x, '\\n')\n",
    "\n",
    "y = x**2+delta*(rand(11)-0.5)\n",
    "#print(y, '\\n')\n",
    "\n",
    "x += delta*(rand(11)-0.5)\n",
    "#print(x, '\\n\\n\\n')\n",
    "\n",
    "print(x, '\\n\\n', y)"
   ]
  },
  {
   "cell_type": "code",
   "execution_count": 127,
   "id": "5e5a5d7d",
   "metadata": {},
   "outputs": [
    {
     "data": {
      "image/png": "[encoded data removed]",
      "text/plain": [
       "<Figure size 432x288 with 1 Axes>"
      ]
     },
     "metadata": {
      "needs_background": "light"
     },
     "output_type": "display_data"
    }
   ],
   "source": [
    "plt.scatter(x, y)\n",
    "plt.show()"
   ]
  },
  {
   "cell_type": "code",
   "execution_count": 128,
   "id": "2e245f62",
   "metadata": {},
   "outputs": [
    {
     "name": "stdout",
     "output_type": "stream",
     "text": [
      "[[-9.90727329e+01  2.14109578e+01 -4.62719762e+00  1.00000000e+00]\n",
      " [-5.46696711e+01  1.44044819e+01 -3.79532368e+00  1.00000000e+00]\n",
      " [-2.95183173e+01  9.55126873e+00 -3.09051270e+00  1.00000000e+00]\n",
      " [-5.45330294e+00  3.09817836e+00 -1.76016430e+00  1.00000000e+00]\n",
      " [-1.39226033e-01  2.68625333e-01 -5.18290780e-01  1.00000000e+00]\n",
      " [ 5.44904689e-02  1.43729869e-01  3.79117223e-01  1.00000000e+00]\n",
      " [ 6.69608366e-01  7.65386118e-01  8.74863485e-01  1.00000000e+00]\n",
      " [ 5.62501450e+00  3.16287793e+00  1.77844818e+00  1.00000000e+00]\n",
      " [ 2.41889626e+01  8.36395130e+00  2.89204967e+00  1.00000000e+00]\n",
      " [ 6.65419974e+01  1.64209100e+01  4.05227221e+00  1.00000000e+00]\n",
      " [ 1.08473523e+02  2.27448196e+01  4.76915293e+00  1.00000000e+00]]\n",
      "\n",
      "[-0.0169911   1.0983072   0.13689249 -0.10166916]\n"
     ]
    }
   ],
   "source": [
    "#нахождение коэффициентов функции вида y = ax^3 + bx^2 + cx + d методом наимньших квадратов\n",
    "\n",
    "#задаем матрицу p = [x**3, x**2, x] (для иксов)\n",
    "p = vstack([x**3, x**2, x, ones(x.shape)]).T\n",
    "print(p)\n",
    "\n",
    "print()\n",
    "\n",
    "#найдем значения коэфициентов (поиск наименьших квадратов для линейного матричного уравнения)\n",
    "s = np.linalg.lstsq(p, y, rcond=None)[0]\n",
    "print(s)"
   ]
  },
  {
   "cell_type": "code",
   "execution_count": 129,
   "id": "de5b10f6",
   "metadata": {},
   "outputs": [
    {
     "data": {
      "image/png": "[encoded data removed]",
      "text/plain": [
       "<Figure size 432x288 with 1 Axes>"
      ]
     },
     "metadata": {
      "needs_background": "light"
     },
     "output_type": "display_data"
    }
   ],
   "source": [
    "plt.scatter(x, y)\n",
    "plt.plot(x, s[0]*x**3 + s[1]*x**2 + s[2]*x + s[3], 'r')\n",
    "plt.show()"
   ]
  },
  {
   "cell_type": "markdown",
   "id": "9a101a5d",
   "metadata": {},
   "source": [
    "***"
   ]
  },
  {
   "cell_type": "markdown",
   "id": "21847cda",
   "metadata": {},
   "source": [
    "# f(x,b) = b0 + b1*exp(-b2*x**2)"
   ]
  },
  {
   "cell_type": "code",
   "execution_count": 130,
   "id": "e39bffc2",
   "metadata": {},
   "outputs": [],
   "source": [
    "#Добавим шума в данные, сделанные по функции f(x,b) с коэффициентами b = (0.25, 0.75, 0.5)\n",
    "beta = (0.25, 0.75, 0.5)\n",
    "\n",
    "#функция\n",
    "def f(x, b0, b1, b2):\n",
    "    return b0 + b1 * np.exp(-b2*x**2)\n",
    "\n",
    "#заходим в массив точек xi\n",
    "xdata = np.linspace(0, 5, 10)\n",
    "#print(xdata, '\\n')\n",
    "\n",
    "#создаем теоретически парвильные значения точек yi (без шума)\n",
    "y = f(xdata, *beta)\n",
    "#print(y, '\\n')\n",
    "\n",
    "#зашумляем эти данные \n",
    "ydata = y + 0.05 * np.random.randn(len(xdata))\n",
    "#print(ydata)"
   ]
  },
  {
   "cell_type": "code",
   "execution_count": 131,
   "id": "8996a787",
   "metadata": {},
   "outputs": [
    {
     "name": "stdout",
     "output_type": "stream",
     "text": [
      "[0.         0.55555556 1.11111111 1.66666667 2.22222222 2.77777778\n",
      " 3.33333333 3.88888889 4.44444444 5.        ] \n",
      "\n",
      " [0.94568198 0.81215831 0.68497364 0.38214519 0.27399917 0.19114006\n",
      " 0.19747868 0.20724507 0.33004035 0.30097175]\n"
     ]
    }
   ],
   "source": [
    "print(xdata, '\\n\\n', ydata)"
   ]
  },
  {
   "cell_type": "code",
   "execution_count": 132,
   "id": "ca448b74",
   "metadata": {},
   "outputs": [
    {
     "data": {
      "image/png": "[encoded data removed]",
      "text/plain": [
       "<Figure size 432x288 with 1 Axes>"
      ]
     },
     "metadata": {
      "needs_background": "light"
     },
     "output_type": "display_data"
    }
   ],
   "source": [
    "plt.scatter(xdata, ydata)\n",
    "plt.show()"
   ]
  },
  {
   "cell_type": "code",
   "execution_count": 133,
   "id": "9e31c6ec",
   "metadata": {},
   "outputs": [
    {
     "name": "stdout",
     "output_type": "stream",
     "text": [
      "[0.23990109 0.70687286 0.5136253 ] \n",
      "\n",
      " [[ 0.00077027 -0.00061748  0.00151255]\n",
      " [-0.00061748  0.00288519  0.00110324]\n",
      " [ 0.00151255  0.00110324  0.01183932]]\n"
     ]
    }
   ],
   "source": [
    "#используем функцию для получения решения в виде коэффициентов функции f(x) для указанных xdata и ydata\n",
    "import scipy as sp\n",
    "from scipy.optimize import curve_fit #Он возвращает массив функциональных параметров, для которых наименьшая квадратная мера сводится к минимуму и связанная ковариационная матрица.\n",
    "beta_opt, beta_cov = sp.optimize.curve_fit(f, xdata, ydata)\n",
    "print(beta_opt, '\\n\\n', beta_cov)"
   ]
  },
  {
   "cell_type": "code",
   "execution_count": 134,
   "id": "ccd4c701",
   "metadata": {},
   "outputs": [
    {
     "name": "stdout",
     "output_type": "stream",
     "text": [
      "0.0016653478357329414\n"
     ]
    }
   ],
   "source": [
    "#вычислим линейное отклонение\n",
    "lin_dev = sum(beta_cov[0])\n",
    "print(lin_dev)"
   ]
  },
  {
   "cell_type": "code",
   "execution_count": 135,
   "id": "174357c0",
   "metadata": {},
   "outputs": [
    {
     "name": "stdout",
     "output_type": "stream",
     "text": [
      "[-0.00109197 -0.03098843  0.07014024 -0.02746977 -0.0218503  -0.06219373\n",
      " -0.04477121 -0.03295513  0.09011152  0.06106879] \n",
      "\n",
      " 0.025921196132315992\n"
     ]
    }
   ],
   "source": [
    "#вычислим квадратичное отклонение \n",
    "residuals = ydata - f(xdata, *beta_opt)\n",
    "fres = sum(residuals**2)\n",
    "print(residuals, '\\n\\n', fres)"
   ]
  },
  {
   "cell_type": "code",
   "execution_count": 136,
   "id": "ea8bbac5",
   "metadata": {},
   "outputs": [
    {
     "data": {
      "image/png": "[encoded data removed]",
      "text/plain": [
       "<Figure size 432x288 with 1 Axes>"
      ]
     },
     "metadata": {
      "needs_background": "light"
     },
     "output_type": "display_data"
    }
   ],
   "source": [
    "plt.scatter(xdata, ydata)\n",
    "plt.plot(xdata, f(xdata, *beta_opt), 'r')\n",
    "plt.show()"
   ]
  },
  {
   "cell_type": "markdown",
   "id": "668889da",
   "metadata": {},
   "source": [
    "# f(x,b) = b0 + b1x"
   ]
  },
  {
   "cell_type": "code",
   "execution_count": 137,
   "id": "8af1d2e0",
   "metadata": {},
   "outputs": [],
   "source": [
    "#Добавим шума в данные, сделанные по функции f(x,b) с коэффициентами b = (0.25, 0.75)\n",
    "beta = (0.25, 0.75)\n",
    "\n",
    "#функция\n",
    "def f(x, b0, b1):\n",
    "    return b0 + b1 * x\n",
    "\n",
    "#заходим в массив точек xi\n",
    "xdata = np.linspace(0, 5, 10)\n",
    "#print(xdata, '\\n')\n",
    "\n",
    "#создаем теоретически парвильные значения точек yi (без шума)\n",
    "y = f(xdata, *beta)\n",
    "#print(y, '\\n')\n",
    "\n",
    "#зашумляем эти данные \n",
    "ydata = y + 0.05 * np.random.randn(len(xdata))\n",
    "#print(ydata)"
   ]
  },
  {
   "cell_type": "code",
   "execution_count": 138,
   "id": "8a3d8624",
   "metadata": {},
   "outputs": [
    {
     "name": "stdout",
     "output_type": "stream",
     "text": [
      "[0.         0.55555556 1.11111111 1.66666667 2.22222222 2.77777778\n",
      " 3.33333333 3.88888889 4.44444444 5.        ] \n",
      "\n",
      " [0.2749508  0.75456523 1.11579626 1.56651272 2.01825692 2.37052567\n",
      " 2.71322442 3.17146971 3.68600217 4.03933204]\n"
     ]
    }
   ],
   "source": [
    "print(xdata, '\\n\\n', ydata)"
   ]
  },
  {
   "cell_type": "code",
   "execution_count": 139,
   "id": "5b88c8b1",
   "metadata": {},
   "outputs": [
    {
     "data": {
      "image/png": "[encoded data removed]",
      "text/plain": [
       "<Figure size 432x288 with 1 Axes>"
      ]
     },
     "metadata": {
      "needs_background": "light"
     },
     "output_type": "display_data"
    }
   ],
   "source": [
    "plt.scatter(xdata, ydata)\n",
    "plt.show()"
   ]
  },
  {
   "cell_type": "code",
   "execution_count": 140,
   "id": "11a2ba09",
   "metadata": {},
   "outputs": [
    {
     "name": "stdout",
     "output_type": "stream",
     "text": [
      "[0.30369285 0.7469483 ] \n",
      "\n",
      " [[ 7.57325504e-04 -2.15239877e-04]\n",
      " [-2.15239877e-04  8.60959498e-05]]\n"
     ]
    }
   ],
   "source": [
    "#используем функцию для получения решения в виде коэффициентов функции f(x) для указанных xdata и ydata\n",
    "beta_opt, beta_cov = sp.optimize.curve_fit(f, xdata, ydata)\n",
    "print(beta_opt, '\\n\\n', beta_cov)"
   ]
  },
  {
   "cell_type": "code",
   "execution_count": 141,
   "id": "75d36a8e",
   "metadata": {},
   "outputs": [
    {
     "name": "stdout",
     "output_type": "stream",
     "text": [
      "0.000542085626967949\n"
     ]
    }
   ],
   "source": [
    "#вычислим линейное отклонение\n",
    "lin_dev = sum(beta_cov[0])\n",
    "print(lin_dev)"
   ]
  },
  {
   "cell_type": "code",
   "execution_count": 142,
   "id": "8c5a7900",
   "metadata": {},
   "outputs": [
    {
     "name": "stdout",
     "output_type": "stream",
     "text": [
      "[-0.02874204  0.03590111 -0.01783914  0.01790604  0.05467897 -0.00802356\n",
      " -0.08029609 -0.03702208  0.06253911  0.0008977 ] \n",
      "\n",
      " 0.017538064160859818\n"
     ]
    }
   ],
   "source": [
    "#вычислим квадратичное отклонение \n",
    "residuals = ydata - f(xdata, *beta_opt)\n",
    "fres = sum(residuals**2)\n",
    "print(residuals, '\\n\\n', fres)"
   ]
  },
  {
   "cell_type": "code",
   "execution_count": 143,
   "id": "af1673e1",
   "metadata": {},
   "outputs": [
    {
     "data": {
      "image/png": "[encoded data removed]",
      "text/plain": [
       "<Figure size 432x288 with 1 Axes>"
      ]
     },
     "metadata": {
      "needs_background": "light"
     },
     "output_type": "display_data"
    }
   ],
   "source": [
    "plt.scatter(xdata, ydata)\n",
    "plt.plot(xdata, f(xdata, *beta_opt), 'r')\n",
    "plt.show()"
   ]
  },
  {
   "cell_type": "markdown",
   "id": "6c913331",
   "metadata": {},
   "source": [
    "# f(x,b) = b0 + b1x + b2x**2"
   ]
  },
  {
   "cell_type": "code",
   "execution_count": 144,
   "id": "80047249",
   "metadata": {},
   "outputs": [],
   "source": [
    "#Добавим шума в данные, сделанные по функции f(x,b) с коэффициентами b = (0.25, 0.75, 0.5)\n",
    "beta = (0.25, 0.75, 0.5)\n",
    "\n",
    "#функция\n",
    "def f(x, b0, b1, b2):\n",
    "    return b0 + b1 * x + b2 * x ** 2\n",
    "\n",
    "#заходим в массив точек xi\n",
    "xdata = np.linspace(0, 5, 10)\n",
    "#print(xdata, '\\n')\n",
    "\n",
    "#создаем теоретически парвильные значения точек yi (без шума)\n",
    "y = f(xdata, *beta)\n",
    "#print(y, '\\n')\n",
    "\n",
    "#зашумляем эти данные \n",
    "ydata = y + 0.05 * np.random.randn(len(xdata))\n",
    "#print(ydata)"
   ]
  },
  {
   "cell_type": "code",
   "execution_count": 145,
   "id": "e5fa1339",
   "metadata": {},
   "outputs": [
    {
     "name": "stdout",
     "output_type": "stream",
     "text": [
      "[0.         0.55555556 1.11111111 1.66666667 2.22222222 2.77777778\n",
      " 3.33333333 3.88888889 4.44444444 5.        ] \n",
      "\n",
      " [ 0.29800944  0.86649473  1.67154683  2.8899337   4.42862047  6.11586267\n",
      "  8.23952744 10.74281816 13.53771855 16.54298727]\n"
     ]
    }
   ],
   "source": [
    "print(xdata, '\\n\\n', ydata)"
   ]
  },
  {
   "cell_type": "code",
   "execution_count": 146,
   "id": "7f640c9f",
   "metadata": {},
   "outputs": [
    {
     "data": {
      "image/png": "[encoded data removed]",
      "text/plain": [
       "<Figure size 432x288 with 1 Axes>"
      ]
     },
     "metadata": {
      "needs_background": "light"
     },
     "output_type": "display_data"
    }
   ],
   "source": [
    "plt.scatter(xdata, ydata)\n",
    "plt.show()"
   ]
  },
  {
   "cell_type": "code",
   "execution_count": 147,
   "id": "9f2db6cd",
   "metadata": {},
   "outputs": [
    {
     "name": "stdout",
     "output_type": "stream",
     "text": [
      "[0.30954638 0.6813386  0.51390482] \n",
      "\n",
      " [[ 1.27567570e-03 -9.62384760e-04  1.51955496e-04]\n",
      " [-9.62384760e-04  1.10674248e-03 -2.05139916e-04]\n",
      " [ 1.51955496e-04 -2.05139916e-04  4.10279839e-05]]\n"
     ]
    }
   ],
   "source": [
    "#используем функцию для получения решения в виде коэффициентов функции f(x) для указанных xdata и ydata\n",
    "beta_opt, beta_cov = sp.optimize.curve_fit(f, xdata, ydata)\n",
    "print(beta_opt, '\\n\\n', beta_cov)"
   ]
  },
  {
   "cell_type": "code",
   "execution_count": 148,
   "id": "d5f116d6",
   "metadata": {},
   "outputs": [
    {
     "name": "stdout",
     "output_type": "stream",
     "text": [
      "0.00046524644041652855\n"
     ]
    }
   ],
   "source": [
    "#вычислим линейное отклонение\n",
    "lin_dev = sum(beta_cov[0])\n",
    "print(lin_dev)"
   ]
  },
  {
   "cell_type": "code",
   "execution_count": 149,
   "id": "92102c80",
   "metadata": {},
   "outputs": [
    {
     "name": "stdout",
     "output_type": "stream",
     "text": [
      "[-0.01153694  0.01981431 -0.02949283  0.0173096   0.06718674 -0.05160589\n",
      " -0.05120114  0.01160435  0.04879432 -0.02087258] \n",
      "\n",
      " 0.014445151212604864\n"
     ]
    }
   ],
   "source": [
    "#вычислим квадратичное отклонение \n",
    "residuals = ydata - f(xdata, *beta_opt)\n",
    "fres = sum(residuals**2)\n",
    "print(residuals, '\\n\\n', fres)"
   ]
  },
  {
   "cell_type": "code",
   "execution_count": 150,
   "id": "4de0319f",
   "metadata": {},
   "outputs": [
    {
     "data": {
      "image/png": "[encoded data removed]",
      "text/plain": [
       "<Figure size 432x288 with 1 Axes>"
      ]
     },
     "metadata": {
      "needs_background": "light"
     },
     "output_type": "display_data"
    }
   ],
   "source": [
    "plt.scatter(xdata, ydata)\n",
    "plt.plot(xdata, f(xdata, *beta_opt), 'r')\n",
    "plt.show()"
   ]
  },
  {
   "cell_type": "markdown",
   "id": "6b0c765e",
   "metadata": {},
   "source": [
    "# f(x,b) = b0 +b1ln(x)"
   ]
  },
  {
   "cell_type": "code",
   "execution_count": 151,
   "id": "bb7376d9",
   "metadata": {},
   "outputs": [],
   "source": [
    "#Добавим шума в данные, сделанные по функции f(x,b) с коэффициентами b = (1, 2)\n",
    "beta = (1, 2)\n",
    "\n",
    "#функция\n",
    "def f(x, b0, b1):\n",
    "    return b0 + b1 * np.log(x)\n",
    "\n",
    "#заходим в массив точек xi\n",
    "xdata = np.linspace(1, 5, 10)\n",
    "#print(xdata, '\\n')\n",
    "\n",
    "#создаем теоретически парвильные значения точек yi (без шума)\n",
    "y = f(xdata, *beta)\n",
    "#print(y, '\\n')\n",
    "\n",
    "#зашумляем эти данные \n",
    "ydata = y + 0.05 * np.random.randn(len(xdata))\n",
    "#print(ydata)"
   ]
  },
  {
   "cell_type": "code",
   "execution_count": 152,
   "id": "c2f7afdc",
   "metadata": {},
   "outputs": [
    {
     "name": "stdout",
     "output_type": "stream",
     "text": [
      "[1.         1.44444444 1.88888889 2.33333333 2.77777778 3.22222222\n",
      " 3.66666667 4.11111111 4.55555556 5.        ] \n",
      "\n",
      " [0.96182379 1.78837815 2.31953075 2.68797951 2.91755085 3.278998\n",
      " 3.55037022 3.72422046 3.99388584 4.24098816]\n"
     ]
    }
   ],
   "source": [
    "print(xdata, '\\n\\n', ydata)"
   ]
  },
  {
   "cell_type": "code",
   "execution_count": 153,
   "id": "e55386ce",
   "metadata": {},
   "outputs": [
    {
     "data": {
      "image/png": "[encoded data removed]",
      "text/plain": [
       "<Figure size 432x288 with 1 Axes>"
      ]
     },
     "metadata": {
      "needs_background": "light"
     },
     "output_type": "display_data"
    }
   ],
   "source": [
    "plt.scatter(xdata, ydata)\n",
    "plt.show()"
   ]
  },
  {
   "cell_type": "code",
   "execution_count": 154,
   "id": "45793432",
   "metadata": {},
   "outputs": [
    {
     "name": "stdout",
     "output_type": "stream",
     "text": [
      "[1.00666567 1.96296895] \n",
      "\n",
      " [[ 0.00177098 -0.00142895]\n",
      " [-0.00142895  0.00144609]]\n"
     ]
    }
   ],
   "source": [
    "#используем функцию для получения решения в виде коэффициентов функции f(x) для указанных xdata и ydata\n",
    "beta_opt, beta_cov = sp.optimize.curve_fit(f, xdata, ydata)\n",
    "print(beta_opt, '\\n\\n', beta_cov)"
   ]
  },
  {
   "cell_type": "code",
   "execution_count": 155,
   "id": "4d23a09d",
   "metadata": {},
   "outputs": [
    {
     "name": "stdout",
     "output_type": "stream",
     "text": [
      "0.0003420322502734163\n"
     ]
    }
   ],
   "source": [
    "#вычислим линейное отклонение\n",
    "lin_dev = sum(beta_cov[0])\n",
    "print(lin_dev)"
   ]
  },
  {
   "cell_type": "code",
   "execution_count": 156,
   "id": "cf61469e",
   "metadata": {},
   "outputs": [
    {
     "name": "stdout",
     "output_type": "stream",
     "text": [
      "[-0.04484188  0.05988016  0.06443888  0.01809445 -0.09458449 -0.0244812\n",
      " -0.00674759 -0.05748132  0.01067714  0.07504585] \n",
      "\n",
      " 0.028717275078428434\n"
     ]
    }
   ],
   "source": [
    "#вычислим квадратичное отклонение \n",
    "residuals = ydata - f(xdata, *beta_opt)\n",
    "fres = sum(residuals**2)\n",
    "print(residuals, '\\n\\n', fres)"
   ]
  },
  {
   "cell_type": "code",
   "execution_count": 157,
   "id": "1a1428f8",
   "metadata": {},
   "outputs": [
    {
     "data": {
      "image/png": "[encoded data removed]",
      "text/plain": [
       "<Figure size 432x288 with 1 Axes>"
      ]
     },
     "metadata": {
      "needs_background": "light"
     },
     "output_type": "display_data"
    }
   ],
   "source": [
    "plt.scatter(xdata, ydata)\n",
    "plt.plot(xdata, f(xdata, *beta_opt), 'r')\n",
    "plt.show()"
   ]
  },
  {
   "cell_type": "markdown",
   "id": "038d7a91",
   "metadata": {},
   "source": [
    "# f(x,b) = b0x^(b1) "
   ]
  },
  {
   "cell_type": "code",
   "execution_count": 158,
   "id": "ca3b977c",
   "metadata": {},
   "outputs": [],
   "source": [
    "#Добавим шума в данные, сделанные по функции f(x,b) с коэффициентами b = (1, 2)\n",
    "beta = (1, 2)\n",
    "\n",
    "#функция\n",
    "def f(x, b0, b1):\n",
    "    return b0 * x ** b1\n",
    "\n",
    "#заходим в массив точек xi\n",
    "xdata = np.linspace(1, 5, 10)\n",
    "#print(xdata, '\\n')\n",
    "\n",
    "#создаем теоретически парвильные значения точек yi (без шума)\n",
    "y = f(xdata, *beta)\n",
    "#print(y, '\\n')\n",
    "\n",
    "#зашумляем эти данные \n",
    "ydata = y + 0.05 * np.random.randn(len(xdata))\n",
    "#print(ydata)"
   ]
  },
  {
   "cell_type": "code",
   "execution_count": 159,
   "id": "fdd25755",
   "metadata": {},
   "outputs": [
    {
     "name": "stdout",
     "output_type": "stream",
     "text": [
      "[1.         1.44444444 1.88888889 2.33333333 2.77777778 3.22222222\n",
      " 3.66666667 4.11111111 4.55555556 5.        ] \n",
      "\n",
      " [ 0.93937529  2.16769704  3.50144993  5.46065108  7.68490266 10.42041887\n",
      " 13.46166124 16.89725583 20.82521036 25.03662482]\n"
     ]
    }
   ],
   "source": [
    "print(xdata, '\\n\\n', ydata)"
   ]
  },
  {
   "cell_type": "code",
   "execution_count": 160,
   "id": "a110abdd",
   "metadata": {},
   "outputs": [
    {
     "data": {
      "image/png": "[encoded data removed]",
      "text/plain": [
       "<Figure size 432x288 with 1 Axes>"
      ]
     },
     "metadata": {
      "needs_background": "light"
     },
     "output_type": "display_data"
    }
   ],
   "source": [
    "plt.scatter(xdata, ydata)\n",
    "plt.show()"
   ]
  },
  {
   "cell_type": "code",
   "execution_count": 161,
   "id": "4691f505",
   "metadata": {},
   "outputs": [
    {
     "name": "stdout",
     "output_type": "stream",
     "text": [
      "[0.99624076 2.00366276] \n",
      "\n",
      " [[ 7.47572572e-05 -5.07873134e-05]\n",
      " [-5.07873134e-05  3.51433944e-05]]\n"
     ]
    }
   ],
   "source": [
    "#используем функцию для получения решения в виде коэффициентов функции f(x) для указанных xdata и ydata\n",
    "beta_opt, beta_cov = sp.optimize.curve_fit(f, xdata, ydata)\n",
    "print(beta_opt, '\\n\\n', beta_cov)"
   ]
  },
  {
   "cell_type": "code",
   "execution_count": 162,
   "id": "8da4fd08",
   "metadata": {},
   "outputs": [
    {
     "name": "stdout",
     "output_type": "stream",
     "text": [
      "2.3969943775960263e-05\n"
     ]
    }
   ],
   "source": [
    "#вычислим линейное отклонение\n",
    "lin_dev = sum(beta_cov[0])\n",
    "print(lin_dev)"
   ]
  },
  {
   "cell_type": "code",
   "execution_count": 163,
   "id": "72ac0aeb",
   "metadata": {},
   "outputs": [
    {
     "name": "stdout",
     "output_type": "stream",
     "text": [
      "[-0.05686547  0.08631914 -0.06132845  0.01981442 -0.03095953  0.032309\n",
      "  0.00386473 -0.02785495  0.03499066 -0.01664831] \n",
      "\n",
      " 0.01913317679298274\n"
     ]
    }
   ],
   "source": [
    "#вычислим квадратичное отклонение \n",
    "residuals = ydata - f(xdata, *beta_opt)\n",
    "fres = sum(residuals**2)\n",
    "print(residuals, '\\n\\n', fres)"
   ]
  },
  {
   "cell_type": "code",
   "execution_count": 164,
   "id": "05f65a3b",
   "metadata": {},
   "outputs": [
    {
     "data": {
      "image/png": "[encoded data removed]",
      "text/plain": [
       "<Figure size 432x288 with 1 Axes>"
      ]
     },
     "metadata": {
      "needs_background": "light"
     },
     "output_type": "display_data"
    }
   ],
   "source": [
    "plt.scatter(xdata, ydata)\n",
    "plt.plot(xdata, f(xdata, *beta_opt), 'r')\n",
    "plt.show()"
   ]
  },
  {
   "cell_type": "markdown",
   "id": "e21044b7",
   "metadata": {},
   "source": [
    "***"
   ]
  },
  {
   "cell_type": "markdown",
   "id": "c699f8a7",
   "metadata": {},
   "source": [
    "# Задачи регрессии\n"
   ]
  },
  {
   "cell_type": "code",
   "execution_count": 227,
   "id": "0248e366",
   "metadata": {},
   "outputs": [],
   "source": [
    "#импортируем необходимые библиотеки \n",
    "import pandas as pd\n",
    "import numpy as np\n",
    "import matplotlib.pyplot as plt\n",
    "from pandas import DataFrame, Series\n",
    "from sklearn.model_selection import train_test_split\n",
    "from sklearn.linear_model import LinearRegression\n",
    "#используем pandas и numpy для обработки данных\n",
    "#matplotlib для визуализации\n",
    "#sklern для обучения наборов данных и импорта моделей"
   ]
  },
  {
   "cell_type": "code",
   "execution_count": 228,
   "id": "483e50cf",
   "metadata": {
    "scrolled": true
   },
   "outputs": [
    {
     "data": {
      "text/html": [
       "<div>\n",
       "<style scoped>\n",
       "    .dataframe tbody tr th:only-of-type {\n",
       "        vertical-align: middle;\n",
       "    }\n",
       "\n",
       "    .dataframe tbody tr th {\n",
       "        vertical-align: top;\n",
       "    }\n",
       "\n",
       "    .dataframe thead th {\n",
       "        text-align: right;\n",
       "    }\n",
       "</style>\n",
       "<table border=\"1\" class=\"dataframe\">\n",
       "  <thead>\n",
       "    <tr style=\"text-align: right;\">\n",
       "      <th></th>\n",
       "      <th>YearsExperience</th>\n",
       "      <th>Salary</th>\n",
       "    </tr>\n",
       "  </thead>\n",
       "  <tbody>\n",
       "    <tr>\n",
       "      <th>0</th>\n",
       "      <td>1.1</td>\n",
       "      <td>39343.0</td>\n",
       "    </tr>\n",
       "    <tr>\n",
       "      <th>1</th>\n",
       "      <td>1.3</td>\n",
       "      <td>46205.0</td>\n",
       "    </tr>\n",
       "    <tr>\n",
       "      <th>2</th>\n",
       "      <td>1.5</td>\n",
       "      <td>37731.0</td>\n",
       "    </tr>\n",
       "    <tr>\n",
       "      <th>3</th>\n",
       "      <td>2.0</td>\n",
       "      <td>43525.0</td>\n",
       "    </tr>\n",
       "    <tr>\n",
       "      <th>4</th>\n",
       "      <td>2.2</td>\n",
       "      <td>39891.0</td>\n",
       "    </tr>\n",
       "  </tbody>\n",
       "</table>\n",
       "</div>"
      ],
      "text/plain": [
       "   YearsExperience   Salary\n",
       "0              1.1  39343.0\n",
       "1              1.3  46205.0\n",
       "2              1.5  37731.0\n",
       "3              2.0  43525.0\n",
       "4              2.2  39891.0"
      ]
     },
     "execution_count": 228,
     "metadata": {},
     "output_type": "execute_result"
    }
   ],
   "source": [
    "#создадим набор данных для описания взаимосвязи между временем обучения студентов и упеваемостью\n",
    "my_dict = pd.read_csv('Salary_Data.csv')\n",
    "\n",
    "dataset = pd.DataFrame(my_dict)\n",
    "dataset.head()"
   ]
  },
  {
   "cell_type": "code",
   "execution_count": 229,
   "id": "3dade5a2",
   "metadata": {},
   "outputs": [
    {
     "name": "stdout",
     "output_type": "stream",
     "text": [
      "(30, 2)\n"
     ]
    },
    {
     "data": {
      "text/html": [
       "<div>\n",
       "<style scoped>\n",
       "    .dataframe tbody tr th:only-of-type {\n",
       "        vertical-align: middle;\n",
       "    }\n",
       "\n",
       "    .dataframe tbody tr th {\n",
       "        vertical-align: top;\n",
       "    }\n",
       "\n",
       "    .dataframe thead th {\n",
       "        text-align: right;\n",
       "    }\n",
       "</style>\n",
       "<table border=\"1\" class=\"dataframe\">\n",
       "  <thead>\n",
       "    <tr style=\"text-align: right;\">\n",
       "      <th></th>\n",
       "      <th>YearsExperience</th>\n",
       "      <th>Salary</th>\n",
       "    </tr>\n",
       "  </thead>\n",
       "  <tbody>\n",
       "    <tr>\n",
       "      <th>count</th>\n",
       "      <td>30.000000</td>\n",
       "      <td>30.000000</td>\n",
       "    </tr>\n",
       "    <tr>\n",
       "      <th>mean</th>\n",
       "      <td>5.313333</td>\n",
       "      <td>76003.000000</td>\n",
       "    </tr>\n",
       "    <tr>\n",
       "      <th>std</th>\n",
       "      <td>2.837888</td>\n",
       "      <td>27414.429785</td>\n",
       "    </tr>\n",
       "    <tr>\n",
       "      <th>min</th>\n",
       "      <td>1.100000</td>\n",
       "      <td>37731.000000</td>\n",
       "    </tr>\n",
       "    <tr>\n",
       "      <th>25%</th>\n",
       "      <td>3.200000</td>\n",
       "      <td>56720.750000</td>\n",
       "    </tr>\n",
       "    <tr>\n",
       "      <th>50%</th>\n",
       "      <td>4.700000</td>\n",
       "      <td>65237.000000</td>\n",
       "    </tr>\n",
       "    <tr>\n",
       "      <th>75%</th>\n",
       "      <td>7.700000</td>\n",
       "      <td>100544.750000</td>\n",
       "    </tr>\n",
       "    <tr>\n",
       "      <th>max</th>\n",
       "      <td>10.500000</td>\n",
       "      <td>122391.000000</td>\n",
       "    </tr>\n",
       "  </tbody>\n",
       "</table>\n",
       "</div>"
      ],
      "text/plain": [
       "       YearsExperience         Salary\n",
       "count        30.000000      30.000000\n",
       "mean          5.313333   76003.000000\n",
       "std           2.837888   27414.429785\n",
       "min           1.100000   37731.000000\n",
       "25%           3.200000   56720.750000\n",
       "50%           4.700000   65237.000000\n",
       "75%           7.700000  100544.750000\n",
       "max          10.500000  122391.000000"
      ]
     },
     "execution_count": 229,
     "metadata": {},
     "output_type": "execute_result"
    }
   ],
   "source": [
    "#исследуем набор данных\n",
    "print(dataset.shape)\n",
    "dataset.describe()"
   ]
  },
  {
   "cell_type": "code",
   "execution_count": 230,
   "id": "ddf32d91",
   "metadata": {},
   "outputs": [
    {
     "data": {
      "image/png": "[encoded data removed]",
      "text/plain": [
       "<Figure size 432x288 with 1 Axes>"
      ]
     },
     "metadata": {
      "needs_background": "light"
     },
     "output_type": "display_data"
    }
   ],
   "source": [
    "#нарисуем точечную диаграмму\n",
    "plt.scatter(dataset['YearsExperience'], dataset['Salary'])\n",
    "plt.xlabel('YearsExperience')\n",
    "plt.ylabel('Salary')\n",
    "plt.show()"
   ]
  },
  {
   "cell_type": "code",
   "execution_count": 231,
   "id": "0177aeb2",
   "metadata": {},
   "outputs": [
    {
     "name": "stdout",
     "output_type": "stream",
     "text": [
      "[[ 1.1]\n",
      " [ 1.3]\n",
      " [ 1.5]\n",
      " [ 2. ]\n",
      " [ 2.2]\n",
      " [ 2.9]\n",
      " [ 3. ]\n",
      " [ 3.2]\n",
      " [ 3.2]\n",
      " [ 3.7]\n",
      " [ 3.9]\n",
      " [ 4. ]\n",
      " [ 4. ]\n",
      " [ 4.1]\n",
      " [ 4.5]\n",
      " [ 4.9]\n",
      " [ 5.1]\n",
      " [ 5.3]\n",
      " [ 5.9]\n",
      " [ 6. ]\n",
      " [ 6.8]\n",
      " [ 7.1]\n",
      " [ 7.9]\n",
      " [ 8.2]\n",
      " [ 8.7]\n",
      " [ 9. ]\n",
      " [ 9.5]\n",
      " [ 9.6]\n",
      " [10.3]\n",
      " [10.5]] \n",
      "\n",
      " [ 39343.  46205.  37731.  43525.  39891.  56642.  60150.  54445.  64445.\n",
      "  57189.  63218.  55794.  56957.  57081.  61111.  67938.  66029.  83088.\n",
      "  81363.  93940.  91738.  98273. 101302. 113812. 109431. 105582. 116969.\n",
      " 112635. 122391. 121872.]\n"
     ]
    }
   ],
   "source": [
    "#теперь разделим информацию на атрибуты и метки, где атрибуты - независимые переменные, а метки - зависимые, те значения\n",
    "#которые должны быть предсказанны\n",
    "#У нас два столбца, нужно предсказать оценку в зависимости от кол-ва часов \n",
    "X = dataset.iloc[:, :-1].values #опыт в годах - атрибуты\n",
    "y = dataset.iloc[:, 1].values #зарплата - метки\n",
    "print(X, '\\n\\n', y)"
   ]
  },
  {
   "cell_type": "code",
   "execution_count": 232,
   "id": "bbabb969",
   "metadata": {},
   "outputs": [],
   "source": [
    "#теперь когда у нас есть атрибуты и метки, необходимо разделить их на обучающий и тестовые наборы.\n",
    "#разделяет 80% данных на обучающий и 20% на тестовый\n",
    "X_train, X_test, y_train, y_test = train_test_split(X, y, test_size=0.2, random_state = 0)"
   ]
  },
  {
   "cell_type": "code",
   "execution_count": 233,
   "id": "c060bb0f",
   "metadata": {},
   "outputs": [
    {
     "data": {
      "text/plain": [
       "LinearRegression()"
      ]
     },
     "execution_count": 233,
     "metadata": {},
     "output_type": "execute_result"
    }
   ],
   "source": [
    "#теперь можно обучить алгоритм линейной регрессии\n",
    "regressor = LinearRegression()\n",
    "regressor.fit(X_train, y_train)"
   ]
  },
  {
   "cell_type": "code",
   "execution_count": 234,
   "id": "3a037128",
   "metadata": {},
   "outputs": [
    {
     "name": "stdout",
     "output_type": "stream",
     "text": [
      "26780.09915062818\n",
      "[9312.57512673]\n"
     ]
    }
   ],
   "source": [
    "#приведем получившиеся коэфициенты для линии регрессии \n",
    "print(regressor.intercept_)\n",
    "print(regressor.coef_)\n",
    "#c каждым затраченным годом зарплата повышается примерно на 9312.575"
   ]
  },
  {
   "cell_type": "code",
   "execution_count": 235,
   "id": "2d4eff1a",
   "metadata": {},
   "outputs": [
    {
     "data": {
      "text/html": [
       "<div>\n",
       "<style scoped>\n",
       "    .dataframe tbody tr th:only-of-type {\n",
       "        vertical-align: middle;\n",
       "    }\n",
       "\n",
       "    .dataframe tbody tr th {\n",
       "        vertical-align: top;\n",
       "    }\n",
       "\n",
       "    .dataframe thead th {\n",
       "        text-align: right;\n",
       "    }\n",
       "</style>\n",
       "<table border=\"1\" class=\"dataframe\">\n",
       "  <thead>\n",
       "    <tr style=\"text-align: right;\">\n",
       "      <th></th>\n",
       "      <th>Actual</th>\n",
       "      <th>Predicted</th>\n",
       "    </tr>\n",
       "  </thead>\n",
       "  <tbody>\n",
       "    <tr>\n",
       "      <th>0</th>\n",
       "      <td>37731.0</td>\n",
       "      <td>40748.961841</td>\n",
       "    </tr>\n",
       "    <tr>\n",
       "      <th>1</th>\n",
       "      <td>122391.0</td>\n",
       "      <td>122699.622956</td>\n",
       "    </tr>\n",
       "    <tr>\n",
       "      <th>2</th>\n",
       "      <td>57081.0</td>\n",
       "      <td>64961.657170</td>\n",
       "    </tr>\n",
       "    <tr>\n",
       "      <th>3</th>\n",
       "      <td>63218.0</td>\n",
       "      <td>63099.142145</td>\n",
       "    </tr>\n",
       "    <tr>\n",
       "      <th>4</th>\n",
       "      <td>116969.0</td>\n",
       "      <td>115249.562855</td>\n",
       "    </tr>\n",
       "    <tr>\n",
       "      <th>5</th>\n",
       "      <td>109431.0</td>\n",
       "      <td>107799.502753</td>\n",
       "    </tr>\n",
       "  </tbody>\n",
       "</table>\n",
       "</div>"
      ],
      "text/plain": [
       "     Actual      Predicted\n",
       "0   37731.0   40748.961841\n",
       "1  122391.0  122699.622956\n",
       "2   57081.0   64961.657170\n",
       "3   63218.0   63099.142145\n",
       "4  116969.0  115249.562855\n",
       "5  109431.0  107799.502753"
      ]
     },
     "execution_count": 235,
     "metadata": {},
     "output_type": "execute_result"
    }
   ],
   "source": [
    "#Построим прогнозы\n",
    "#Для этого используем наши тестовые данные и посмотрим насколько точно наш алгоритм предсказывает процентную оценку\n",
    "y_pred = regressor.predict(X_test)\n",
    "#сравним фактические значения с предсказанными\n",
    "df = pd.DataFrame({'Actual': y_test, 'Predicted': y_pred})\n",
    "df"
   ]
  },
  {
   "cell_type": "code",
   "execution_count": 236,
   "id": "cb72de9d",
   "metadata": {},
   "outputs": [
    {
     "data": {
      "image/png": "[encoded data removed]",
      "text/plain": [
       "<Figure size 432x288 with 1 Axes>"
      ]
     },
     "metadata": {
      "needs_background": "light"
     },
     "output_type": "display_data"
    }
   ],
   "source": [
    "#визуализируем\n",
    "df.plot(kind='bar')\n",
    "plt.show()"
   ]
  },
  {
   "cell_type": "code",
   "execution_count": 237,
   "id": "fd3f2ca5",
   "metadata": {},
   "outputs": [
    {
     "data": {
      "image/png": "[encoded data removed]",
      "text/plain": [
       "<Figure size 432x288 with 1 Axes>"
      ]
     },
     "metadata": {
      "needs_background": "light"
     },
     "output_type": "display_data"
    }
   ],
   "source": [
    "#построим линию регрессии с тестовым данными\n",
    "plt.scatter(X_test, y_test)\n",
    "plt.plot(X_test, y_pred, 'r')\n",
    "plt.show()"
   ]
  },
  {
   "cell_type": "markdown",
   "id": "b4f37132",
   "metadata": {},
   "source": [
    "***"
   ]
  },
  {
   "cell_type": "markdown",
   "id": "38f0e9ac",
   "metadata": {},
   "source": [
    "# Множественная регрессия"
   ]
  },
  {
   "cell_type": "code",
   "execution_count": 239,
   "id": "14151abc",
   "metadata": {},
   "outputs": [
    {
     "data": {
      "text/html": [
       "<div>\n",
       "<style scoped>\n",
       "    .dataframe tbody tr th:only-of-type {\n",
       "        vertical-align: middle;\n",
       "    }\n",
       "\n",
       "    .dataframe tbody tr th {\n",
       "        vertical-align: top;\n",
       "    }\n",
       "\n",
       "    .dataframe thead th {\n",
       "        text-align: right;\n",
       "    }\n",
       "</style>\n",
       "<table border=\"1\" class=\"dataframe\">\n",
       "  <thead>\n",
       "    <tr style=\"text-align: right;\">\n",
       "      <th></th>\n",
       "      <th>fixed acidity</th>\n",
       "      <th>volatile acidity</th>\n",
       "      <th>citric acid</th>\n",
       "      <th>residual sugar</th>\n",
       "      <th>chlorides</th>\n",
       "      <th>free sulfur dioxide</th>\n",
       "      <th>total sulfur dioxide</th>\n",
       "      <th>density</th>\n",
       "      <th>pH</th>\n",
       "      <th>sulphates</th>\n",
       "      <th>alcohol</th>\n",
       "      <th>quality</th>\n",
       "    </tr>\n",
       "  </thead>\n",
       "  <tbody>\n",
       "    <tr>\n",
       "      <th>0</th>\n",
       "      <td>7.4</td>\n",
       "      <td>0.70</td>\n",
       "      <td>0.00</td>\n",
       "      <td>1.9</td>\n",
       "      <td>0.076</td>\n",
       "      <td>11.0</td>\n",
       "      <td>34.0</td>\n",
       "      <td>0.9978</td>\n",
       "      <td>3.51</td>\n",
       "      <td>0.56</td>\n",
       "      <td>9.4</td>\n",
       "      <td>5</td>\n",
       "    </tr>\n",
       "    <tr>\n",
       "      <th>1</th>\n",
       "      <td>7.8</td>\n",
       "      <td>0.88</td>\n",
       "      <td>0.00</td>\n",
       "      <td>2.6</td>\n",
       "      <td>0.098</td>\n",
       "      <td>25.0</td>\n",
       "      <td>67.0</td>\n",
       "      <td>0.9968</td>\n",
       "      <td>3.20</td>\n",
       "      <td>0.68</td>\n",
       "      <td>9.8</td>\n",
       "      <td>5</td>\n",
       "    </tr>\n",
       "    <tr>\n",
       "      <th>2</th>\n",
       "      <td>7.8</td>\n",
       "      <td>0.76</td>\n",
       "      <td>0.04</td>\n",
       "      <td>2.3</td>\n",
       "      <td>0.092</td>\n",
       "      <td>15.0</td>\n",
       "      <td>54.0</td>\n",
       "      <td>0.9970</td>\n",
       "      <td>3.26</td>\n",
       "      <td>0.65</td>\n",
       "      <td>9.8</td>\n",
       "      <td>5</td>\n",
       "    </tr>\n",
       "    <tr>\n",
       "      <th>3</th>\n",
       "      <td>11.2</td>\n",
       "      <td>0.28</td>\n",
       "      <td>0.56</td>\n",
       "      <td>1.9</td>\n",
       "      <td>0.075</td>\n",
       "      <td>17.0</td>\n",
       "      <td>60.0</td>\n",
       "      <td>0.9980</td>\n",
       "      <td>3.16</td>\n",
       "      <td>0.58</td>\n",
       "      <td>9.8</td>\n",
       "      <td>6</td>\n",
       "    </tr>\n",
       "    <tr>\n",
       "      <th>4</th>\n",
       "      <td>7.4</td>\n",
       "      <td>0.70</td>\n",
       "      <td>0.00</td>\n",
       "      <td>1.9</td>\n",
       "      <td>0.076</td>\n",
       "      <td>11.0</td>\n",
       "      <td>34.0</td>\n",
       "      <td>0.9978</td>\n",
       "      <td>3.51</td>\n",
       "      <td>0.56</td>\n",
       "      <td>9.4</td>\n",
       "      <td>5</td>\n",
       "    </tr>\n",
       "  </tbody>\n",
       "</table>\n",
       "</div>"
      ],
      "text/plain": [
       "   fixed acidity  volatile acidity  citric acid  residual sugar  chlorides  ...  density    pH  sulphates  alcohol  quality\n",
       "0            7.4              0.70         0.00             1.9      0.076  ...   0.9978  3.51       0.56      9.4        5\n",
       "1            7.8              0.88         0.00             2.6      0.098  ...   0.9968  3.20       0.68      9.8        5\n",
       "2            7.8              0.76         0.04             2.3      0.092  ...   0.9970  3.26       0.65      9.8        5\n",
       "3           11.2              0.28         0.56             1.9      0.075  ...   0.9980  3.16       0.58      9.8        6\n",
       "4            7.4              0.70         0.00             1.9      0.076  ...   0.9978  3.51       0.56      9.4        5\n",
       "\n",
       "[5 rows x 12 columns]"
      ]
     },
     "execution_count": 239,
     "metadata": {},
     "output_type": "execute_result"
    }
   ],
   "source": [
    "#также можно использовать библиотеку skikit-learn\n",
    "#импортируем библиотеки \n",
    "import pandas as pd\n",
    "import numpy as np\n",
    "import matplotlib.pyplot as plt\n",
    "import seaborn as seabornInstance\n",
    "from sklearn.model_selection import train_test_split\n",
    "from sklearn.linear_model import LinearRegression\n",
    "from sklearn import metrics\n",
    "\n",
    "my_dict = pd.read_csv('winequality-red.csv')\n",
    "my_dict.head()"
   ]
  },
  {
   "cell_type": "code",
   "execution_count": 242,
   "id": "c2bf2028",
   "metadata": {},
   "outputs": [
    {
     "name": "stdout",
     "output_type": "stream",
     "text": [
      "(1599, 12)\n"
     ]
    },
    {
     "data": {
      "text/html": [
       "<div>\n",
       "<style scoped>\n",
       "    .dataframe tbody tr th:only-of-type {\n",
       "        vertical-align: middle;\n",
       "    }\n",
       "\n",
       "    .dataframe tbody tr th {\n",
       "        vertical-align: top;\n",
       "    }\n",
       "\n",
       "    .dataframe thead th {\n",
       "        text-align: right;\n",
       "    }\n",
       "</style>\n",
       "<table border=\"1\" class=\"dataframe\">\n",
       "  <thead>\n",
       "    <tr style=\"text-align: right;\">\n",
       "      <th></th>\n",
       "      <th>fixed acidity</th>\n",
       "      <th>volatile acidity</th>\n",
       "      <th>citric acid</th>\n",
       "      <th>residual sugar</th>\n",
       "      <th>chlorides</th>\n",
       "      <th>free sulfur dioxide</th>\n",
       "      <th>total sulfur dioxide</th>\n",
       "      <th>density</th>\n",
       "      <th>pH</th>\n",
       "      <th>sulphates</th>\n",
       "      <th>alcohol</th>\n",
       "      <th>quality</th>\n",
       "    </tr>\n",
       "  </thead>\n",
       "  <tbody>\n",
       "    <tr>\n",
       "      <th>count</th>\n",
       "      <td>1599.000000</td>\n",
       "      <td>1599.000000</td>\n",
       "      <td>1599.000000</td>\n",
       "      <td>1599.000000</td>\n",
       "      <td>1599.000000</td>\n",
       "      <td>1599.000000</td>\n",
       "      <td>1599.000000</td>\n",
       "      <td>1599.000000</td>\n",
       "      <td>1599.000000</td>\n",
       "      <td>1599.000000</td>\n",
       "      <td>1599.000000</td>\n",
       "      <td>1599.000000</td>\n",
       "    </tr>\n",
       "    <tr>\n",
       "      <th>mean</th>\n",
       "      <td>8.319637</td>\n",
       "      <td>0.527821</td>\n",
       "      <td>0.270976</td>\n",
       "      <td>2.538806</td>\n",
       "      <td>0.087467</td>\n",
       "      <td>15.874922</td>\n",
       "      <td>46.467792</td>\n",
       "      <td>0.996747</td>\n",
       "      <td>3.311113</td>\n",
       "      <td>0.658149</td>\n",
       "      <td>10.422983</td>\n",
       "      <td>5.636023</td>\n",
       "    </tr>\n",
       "    <tr>\n",
       "      <th>std</th>\n",
       "      <td>1.741096</td>\n",
       "      <td>0.179060</td>\n",
       "      <td>0.194801</td>\n",
       "      <td>1.409928</td>\n",
       "      <td>0.047065</td>\n",
       "      <td>10.460157</td>\n",
       "      <td>32.895324</td>\n",
       "      <td>0.001887</td>\n",
       "      <td>0.154386</td>\n",
       "      <td>0.169507</td>\n",
       "      <td>1.065668</td>\n",
       "      <td>0.807569</td>\n",
       "    </tr>\n",
       "    <tr>\n",
       "      <th>min</th>\n",
       "      <td>4.600000</td>\n",
       "      <td>0.120000</td>\n",
       "      <td>0.000000</td>\n",
       "      <td>0.900000</td>\n",
       "      <td>0.012000</td>\n",
       "      <td>1.000000</td>\n",
       "      <td>6.000000</td>\n",
       "      <td>0.990070</td>\n",
       "      <td>2.740000</td>\n",
       "      <td>0.330000</td>\n",
       "      <td>8.400000</td>\n",
       "      <td>3.000000</td>\n",
       "    </tr>\n",
       "    <tr>\n",
       "      <th>25%</th>\n",
       "      <td>7.100000</td>\n",
       "      <td>0.390000</td>\n",
       "      <td>0.090000</td>\n",
       "      <td>1.900000</td>\n",
       "      <td>0.070000</td>\n",
       "      <td>7.000000</td>\n",
       "      <td>22.000000</td>\n",
       "      <td>0.995600</td>\n",
       "      <td>3.210000</td>\n",
       "      <td>0.550000</td>\n",
       "      <td>9.500000</td>\n",
       "      <td>5.000000</td>\n",
       "    </tr>\n",
       "    <tr>\n",
       "      <th>50%</th>\n",
       "      <td>7.900000</td>\n",
       "      <td>0.520000</td>\n",
       "      <td>0.260000</td>\n",
       "      <td>2.200000</td>\n",
       "      <td>0.079000</td>\n",
       "      <td>14.000000</td>\n",
       "      <td>38.000000</td>\n",
       "      <td>0.996750</td>\n",
       "      <td>3.310000</td>\n",
       "      <td>0.620000</td>\n",
       "      <td>10.200000</td>\n",
       "      <td>6.000000</td>\n",
       "    </tr>\n",
       "    <tr>\n",
       "      <th>75%</th>\n",
       "      <td>9.200000</td>\n",
       "      <td>0.640000</td>\n",
       "      <td>0.420000</td>\n",
       "      <td>2.600000</td>\n",
       "      <td>0.090000</td>\n",
       "      <td>21.000000</td>\n",
       "      <td>62.000000</td>\n",
       "      <td>0.997835</td>\n",
       "      <td>3.400000</td>\n",
       "      <td>0.730000</td>\n",
       "      <td>11.100000</td>\n",
       "      <td>6.000000</td>\n",
       "    </tr>\n",
       "    <tr>\n",
       "      <th>max</th>\n",
       "      <td>15.900000</td>\n",
       "      <td>1.580000</td>\n",
       "      <td>1.000000</td>\n",
       "      <td>15.500000</td>\n",
       "      <td>0.611000</td>\n",
       "      <td>72.000000</td>\n",
       "      <td>289.000000</td>\n",
       "      <td>1.003690</td>\n",
       "      <td>4.010000</td>\n",
       "      <td>2.000000</td>\n",
       "      <td>14.900000</td>\n",
       "      <td>8.000000</td>\n",
       "    </tr>\n",
       "  </tbody>\n",
       "</table>\n",
       "</div>"
      ],
      "text/plain": [
       "       fixed acidity  volatile acidity  citric acid  residual sugar  ...           pH    sulphates      alcohol      quality\n",
       "count    1599.000000       1599.000000  1599.000000     1599.000000  ...  1599.000000  1599.000000  1599.000000  1599.000000\n",
       "mean        8.319637          0.527821     0.270976        2.538806  ...     3.311113     0.658149    10.422983     5.636023\n",
       "std         1.741096          0.179060     0.194801        1.409928  ...     0.154386     0.169507     1.065668     0.807569\n",
       "min         4.600000          0.120000     0.000000        0.900000  ...     2.740000     0.330000     8.400000     3.000000\n",
       "25%         7.100000          0.390000     0.090000        1.900000  ...     3.210000     0.550000     9.500000     5.000000\n",
       "50%         7.900000          0.520000     0.260000        2.200000  ...     3.310000     0.620000    10.200000     6.000000\n",
       "75%         9.200000          0.640000     0.420000        2.600000  ...     3.400000     0.730000    11.100000     6.000000\n",
       "max        15.900000          1.580000     1.000000       15.500000  ...     4.010000     2.000000    14.900000     8.000000\n",
       "\n",
       "[8 rows x 12 columns]"
      ]
     },
     "execution_count": 242,
     "metadata": {},
     "output_type": "execute_result"
    }
   ],
   "source": [
    "#изучим данные\n",
    "print(my_dict.shape)\n",
    "my_dict.describe()"
   ]
  },
  {
   "cell_type": "code",
   "execution_count": 243,
   "id": "3560d723",
   "metadata": {},
   "outputs": [
    {
     "data": {
      "text/plain": [
       "LinearRegression()"
      ]
     },
     "execution_count": 243,
     "metadata": {},
     "output_type": "execute_result"
    }
   ],
   "source": [
    "#разделим данные на метки и атрибуты \n",
    "X = my_dict[['fixed acidity','volatile acidity','citric acid','residual sugar','chlorides','free sulfur dioxide','total sulfur dioxide','density','pH','sulphates','alcohol']] #атрибуты\n",
    "y = my_dict['quality'] #метки\n",
    "\n",
    "#разделим данные на обучающие и тестовые данные \n",
    "X_train, X_test, y_train, y_test = train_test_split(X, y, test_size = 0.2, random_state = 0)\n",
    "\n",
    "#обучаем алгоритм\n",
    "regressor = LinearRegression()\n",
    "regressor.fit(X_train, y_train)"
   ]
  },
  {
   "cell_type": "code",
   "execution_count": 244,
   "id": "8e56edfd",
   "metadata": {},
   "outputs": [
    {
     "name": "stdout",
     "output_type": "stream",
     "text": [
      "34.99871062872198\n",
      "[ 4.12835075e-02 -1.14952802e+00 -1.77927063e-01  2.78700036e-02\n",
      " -1.87340739e+00  2.68362616e-03 -2.77748370e-03 -3.15166657e+01\n",
      " -2.54486051e-01  9.24040106e-01  2.67797417e-01]\n"
     ]
    },
    {
     "data": {
      "text/html": [
       "<div>\n",
       "<style scoped>\n",
       "    .dataframe tbody tr th:only-of-type {\n",
       "        vertical-align: middle;\n",
       "    }\n",
       "\n",
       "    .dataframe tbody tr th {\n",
       "        vertical-align: top;\n",
       "    }\n",
       "\n",
       "    .dataframe thead th {\n",
       "        text-align: right;\n",
       "    }\n",
       "</style>\n",
       "<table border=\"1\" class=\"dataframe\">\n",
       "  <thead>\n",
       "    <tr style=\"text-align: right;\">\n",
       "      <th></th>\n",
       "      <th>Coefficient</th>\n",
       "    </tr>\n",
       "  </thead>\n",
       "  <tbody>\n",
       "    <tr>\n",
       "      <th>fixed acidity</th>\n",
       "      <td>0.041284</td>\n",
       "    </tr>\n",
       "    <tr>\n",
       "      <th>volatile acidity</th>\n",
       "      <td>-1.149528</td>\n",
       "    </tr>\n",
       "    <tr>\n",
       "      <th>citric acid</th>\n",
       "      <td>-0.177927</td>\n",
       "    </tr>\n",
       "    <tr>\n",
       "      <th>residual sugar</th>\n",
       "      <td>0.027870</td>\n",
       "    </tr>\n",
       "    <tr>\n",
       "      <th>chlorides</th>\n",
       "      <td>-1.873407</td>\n",
       "    </tr>\n",
       "    <tr>\n",
       "      <th>free sulfur dioxide</th>\n",
       "      <td>0.002684</td>\n",
       "    </tr>\n",
       "    <tr>\n",
       "      <th>total sulfur dioxide</th>\n",
       "      <td>-0.002777</td>\n",
       "    </tr>\n",
       "    <tr>\n",
       "      <th>density</th>\n",
       "      <td>-31.516666</td>\n",
       "    </tr>\n",
       "    <tr>\n",
       "      <th>pH</th>\n",
       "      <td>-0.254486</td>\n",
       "    </tr>\n",
       "    <tr>\n",
       "      <th>sulphates</th>\n",
       "      <td>0.924040</td>\n",
       "    </tr>\n",
       "    <tr>\n",
       "      <th>alcohol</th>\n",
       "      <td>0.267797</td>\n",
       "    </tr>\n",
       "  </tbody>\n",
       "</table>\n",
       "</div>"
      ],
      "text/plain": [
       "                      Coefficient\n",
       "fixed acidity            0.041284\n",
       "volatile acidity        -1.149528\n",
       "citric acid             -0.177927\n",
       "residual sugar           0.027870\n",
       "chlorides               -1.873407\n",
       "free sulfur dioxide      0.002684\n",
       "total sulfur dioxide    -0.002777\n",
       "density                -31.516666\n",
       "pH                      -0.254486\n",
       "sulphates                0.924040\n",
       "alcohol                  0.267797"
      ]
     },
     "execution_count": 244,
     "metadata": {},
     "output_type": "execute_result"
    }
   ],
   "source": [
    "#приведем получившиеся коэфициенты моделей\n",
    "print(regressor.intercept_)\n",
    "print(regressor.coef_)\n",
    "\n",
    "coef_df = pd.DataFrame(regressor.coef_, X.columns, columns=['Coefficient'])\n",
    "coef_df"
   ]
  },
  {
   "cell_type": "code",
   "execution_count": 245,
   "id": "98703a0d",
   "metadata": {},
   "outputs": [
    {
     "data": {
      "text/html": [
       "<div>\n",
       "<style scoped>\n",
       "    .dataframe tbody tr th:only-of-type {\n",
       "        vertical-align: middle;\n",
       "    }\n",
       "\n",
       "    .dataframe tbody tr th {\n",
       "        vertical-align: top;\n",
       "    }\n",
       "\n",
       "    .dataframe thead th {\n",
       "        text-align: right;\n",
       "    }\n",
       "</style>\n",
       "<table border=\"1\" class=\"dataframe\">\n",
       "  <thead>\n",
       "    <tr style=\"text-align: right;\">\n",
       "      <th></th>\n",
       "      <th>Actual</th>\n",
       "      <th>Predicted</th>\n",
       "    </tr>\n",
       "  </thead>\n",
       "  <tbody>\n",
       "    <tr>\n",
       "      <th>1109</th>\n",
       "      <td>6</td>\n",
       "      <td>5.782930</td>\n",
       "    </tr>\n",
       "    <tr>\n",
       "      <th>1032</th>\n",
       "      <td>5</td>\n",
       "      <td>5.036193</td>\n",
       "    </tr>\n",
       "    <tr>\n",
       "      <th>1002</th>\n",
       "      <td>7</td>\n",
       "      <td>6.596989</td>\n",
       "    </tr>\n",
       "    <tr>\n",
       "      <th>487</th>\n",
       "      <td>6</td>\n",
       "      <td>5.339126</td>\n",
       "    </tr>\n",
       "    <tr>\n",
       "      <th>979</th>\n",
       "      <td>5</td>\n",
       "      <td>5.939529</td>\n",
       "    </tr>\n",
       "    <tr>\n",
       "      <th>...</th>\n",
       "      <td>...</td>\n",
       "      <td>...</td>\n",
       "    </tr>\n",
       "    <tr>\n",
       "      <th>794</th>\n",
       "      <td>6</td>\n",
       "      <td>6.559757</td>\n",
       "    </tr>\n",
       "    <tr>\n",
       "      <th>813</th>\n",
       "      <td>4</td>\n",
       "      <td>6.017576</td>\n",
       "    </tr>\n",
       "    <tr>\n",
       "      <th>1322</th>\n",
       "      <td>5</td>\n",
       "      <td>6.251291</td>\n",
       "    </tr>\n",
       "    <tr>\n",
       "      <th>704</th>\n",
       "      <td>4</td>\n",
       "      <td>5.163926</td>\n",
       "    </tr>\n",
       "    <tr>\n",
       "      <th>1023</th>\n",
       "      <td>6</td>\n",
       "      <td>6.367205</td>\n",
       "    </tr>\n",
       "  </tbody>\n",
       "</table>\n",
       "<p>320 rows × 2 columns</p>\n",
       "</div>"
      ],
      "text/plain": [
       "      Actual  Predicted\n",
       "1109       6   5.782930\n",
       "1032       5   5.036193\n",
       "1002       7   6.596989\n",
       "487        6   5.339126\n",
       "979        5   5.939529\n",
       "...      ...        ...\n",
       "794        6   6.559757\n",
       "813        4   6.017576\n",
       "1322       5   6.251291\n",
       "704        4   5.163926\n",
       "1023       6   6.367205\n",
       "\n",
       "[320 rows x 2 columns]"
      ]
     },
     "execution_count": 245,
     "metadata": {},
     "output_type": "execute_result"
    }
   ],
   "source": [
    "#Построим прогнозы\n",
    "#Для этого используем наши тестовые данные и посмотрим насколько точно наш алгоритм предсказывает процентную оценку\n",
    "y_pred = regressor.predict(X_test)\n",
    "#сравним фактические значения с предсказанными\n",
    "df = pd.DataFrame({'Actual': y_test, 'Predicted': y_pred})\n",
    "df"
   ]
  },
  {
   "cell_type": "code",
   "execution_count": 246,
   "id": "5414db5b",
   "metadata": {},
   "outputs": [
    {
     "data": {
      "image/png": "[encoded data removed]",
      "text/plain": [
       "<Figure size 432x288 with 1 Axes>"
      ]
     },
     "metadata": {
      "needs_background": "light"
     },
     "output_type": "display_data"
    }
   ],
   "source": [
    "#визуализируем\n",
    "df.plot(kind='bar')\n",
    "plt.show()"
   ]
  },
  {
   "cell_type": "code",
   "execution_count": 247,
   "id": "3c01a611",
   "metadata": {},
   "outputs": [
    {
     "name": "stdout",
     "output_type": "stream",
     "text": [
      "MSE:  0.38447119782012457\n"
     ]
    }
   ],
   "source": [
    "#оценим производительность алгоритма, сделаем это, найдя значения для MSE\n",
    "print(\"MSE: \", metrics.mean_squared_error(y_test, y_pred))"
   ]
  },
  {
   "cell_type": "code",
   "execution_count": null,
   "id": "a2e4e8b7",
   "metadata": {},
   "outputs": [],
   "source": []
  }
 ],
 "metadata": {
  "kernelspec": {
   "display_name": "Python 3 (ipykernel)",
   "language": "python",
   "name": "python3"
  },
  "language_info": {
   "codemirror_mode": {
    "name": "ipython",
    "version": 3
   },
   "file_extension": ".py",
   "mimetype": "text/x-python",
   "name": "python",
   "nbconvert_exporter": "python",
   "pygments_lexer": "ipython3",
   "version": "3.9.7"
  }
 },
 "nbformat": 4,
 "nbformat_minor": 5
}
